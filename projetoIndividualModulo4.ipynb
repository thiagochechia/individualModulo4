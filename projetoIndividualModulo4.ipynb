{
  "nbformat": 4,
  "nbformat_minor": 0,
  "metadata": {
    "colab": {
      "provenance": []
    },
    "kernelspec": {
      "name": "python3",
      "display_name": "Python 3"
    },
    "language_info": {
      "name": "python"
    }
  },
  "cells": [
    {
      "cell_type": "markdown",
      "source": [
        "TRABALHO INDIVIDUAL MÓDULO 4 (THIAGO BERNARDES CHECHIA)"
      ],
      "metadata": {
        "id": "ZLJkQSsxONIu"
      }
    },
    {
      "cell_type": "markdown",
      "source": [
        "\n",
        "![Logo da Resilia](https://www.resilia.com.br/wp-content/uploads/2021/08/logo.png)\n",
        "\n",
        "\n"
      ],
      "metadata": {
        "id": "b4g5IWLCslo5"
      }
    },
    {
      "cell_type": "markdown",
      "source": [
        "# ***Relatório de Produtividade Semanal***\n",
        "\n",
        "Neste relatório, apresentarei uma análise detalhada da produtividade da nossa equipe ao longo da semana, com base em três principais indicadores: \"Horas Trabalhadas\", \"Bugs Corrigidos\" e \"Tarefas Concluídas\". Vamos explorar cada um desses temas para obter insights sobre o desempenho da equipe e entender como podemos melhorar a eficiência em nossas atividades diárias."
      ],
      "metadata": {
        "id": "LozXh7EwJr1l"
      }
    },
    {
      "cell_type": "markdown",
      "source": [
        "- IMPORTANDO AS BIBLIOTECAS NECESSÁRIAS"
      ],
      "metadata": {
        "id": "H3_2w7qnCP6_"
      }
    },
    {
      "cell_type": "code",
      "source": [
        "import pandas as pd\n",
        "import numpy as np\n",
        "import matplotlib.pyplot as plt\n",
        "\n"
      ],
      "metadata": {
        "id": "XT6wWuiSv9ri"
      },
      "execution_count": 20,
      "outputs": []
    },
    {
      "cell_type": "markdown",
      "source": [
        "- IMPORTANDO O RELATÓRIO EM FORMATO .csv  (comma separated values)(valores separados por vírgulas)"
      ],
      "metadata": {
        "id": "4vMPzBJLCUzE"
      }
    },
    {
      "cell_type": "code",
      "source": [
        "url = 'https://drive.google.com/uc?export=download&id=1wji-DooPqQ3RzCotMFoszmjzFSakf0zH'\n",
        "\n",
        "relatorio = pd.read_csv(url)\n",
        "relatorio"
      ],
      "metadata": {
        "colab": {
          "base_uri": "https://localhost:8080/",
          "height": 269
        },
        "id": "shYvdqpvbzAe",
        "outputId": "c5f45b91-5cb4-4c7d-e90e-0404f34489ca"
      },
      "execution_count": 47,
      "outputs": [
        {
          "output_type": "execute_result",
          "data": {
            "text/plain": [
              "       Dia  Horas Trabalhadas  Bugs Corrigidos  Tarefas Concluídas\n",
              "0  Segunda                  6                3                   5\n",
              "1    Terca                  7                2                   4\n",
              "2   Quarta                  8                1                   6\n",
              "3   Quinta                  6                4                   4\n",
              "4    Sexta                  7                3                   5\n",
              "5   Sábado                  5                2                   3\n",
              "6  Domingo                  4                1                   2"
            ],
            "text/html": [
              "\n",
              "\n",
              "  <div id=\"df-05714dc6-115b-4734-880c-441f9e32dbfb\">\n",
              "    <div class=\"colab-df-container\">\n",
              "      <div>\n",
              "<style scoped>\n",
              "    .dataframe tbody tr th:only-of-type {\n",
              "        vertical-align: middle;\n",
              "    }\n",
              "\n",
              "    .dataframe tbody tr th {\n",
              "        vertical-align: top;\n",
              "    }\n",
              "\n",
              "    .dataframe thead th {\n",
              "        text-align: right;\n",
              "    }\n",
              "</style>\n",
              "<table border=\"1\" class=\"dataframe\">\n",
              "  <thead>\n",
              "    <tr style=\"text-align: right;\">\n",
              "      <th></th>\n",
              "      <th>Dia</th>\n",
              "      <th>Horas Trabalhadas</th>\n",
              "      <th>Bugs Corrigidos</th>\n",
              "      <th>Tarefas Concluídas</th>\n",
              "    </tr>\n",
              "  </thead>\n",
              "  <tbody>\n",
              "    <tr>\n",
              "      <th>0</th>\n",
              "      <td>Segunda</td>\n",
              "      <td>6</td>\n",
              "      <td>3</td>\n",
              "      <td>5</td>\n",
              "    </tr>\n",
              "    <tr>\n",
              "      <th>1</th>\n",
              "      <td>Terca</td>\n",
              "      <td>7</td>\n",
              "      <td>2</td>\n",
              "      <td>4</td>\n",
              "    </tr>\n",
              "    <tr>\n",
              "      <th>2</th>\n",
              "      <td>Quarta</td>\n",
              "      <td>8</td>\n",
              "      <td>1</td>\n",
              "      <td>6</td>\n",
              "    </tr>\n",
              "    <tr>\n",
              "      <th>3</th>\n",
              "      <td>Quinta</td>\n",
              "      <td>6</td>\n",
              "      <td>4</td>\n",
              "      <td>4</td>\n",
              "    </tr>\n",
              "    <tr>\n",
              "      <th>4</th>\n",
              "      <td>Sexta</td>\n",
              "      <td>7</td>\n",
              "      <td>3</td>\n",
              "      <td>5</td>\n",
              "    </tr>\n",
              "    <tr>\n",
              "      <th>5</th>\n",
              "      <td>Sábado</td>\n",
              "      <td>5</td>\n",
              "      <td>2</td>\n",
              "      <td>3</td>\n",
              "    </tr>\n",
              "    <tr>\n",
              "      <th>6</th>\n",
              "      <td>Domingo</td>\n",
              "      <td>4</td>\n",
              "      <td>1</td>\n",
              "      <td>2</td>\n",
              "    </tr>\n",
              "  </tbody>\n",
              "</table>\n",
              "</div>\n",
              "      <button class=\"colab-df-convert\" onclick=\"convertToInteractive('df-05714dc6-115b-4734-880c-441f9e32dbfb')\"\n",
              "              title=\"Convert this dataframe to an interactive table.\"\n",
              "              style=\"display:none;\">\n",
              "\n",
              "  <svg xmlns=\"http://www.w3.org/2000/svg\" height=\"24px\"viewBox=\"0 0 24 24\"\n",
              "       width=\"24px\">\n",
              "    <path d=\"M0 0h24v24H0V0z\" fill=\"none\"/>\n",
              "    <path d=\"M18.56 5.44l.94 2.06.94-2.06 2.06-.94-2.06-.94-.94-2.06-.94 2.06-2.06.94zm-11 1L8.5 8.5l.94-2.06 2.06-.94-2.06-.94L8.5 2.5l-.94 2.06-2.06.94zm10 10l.94 2.06.94-2.06 2.06-.94-2.06-.94-.94-2.06-.94 2.06-2.06.94z\"/><path d=\"M17.41 7.96l-1.37-1.37c-.4-.4-.92-.59-1.43-.59-.52 0-1.04.2-1.43.59L10.3 9.45l-7.72 7.72c-.78.78-.78 2.05 0 2.83L4 21.41c.39.39.9.59 1.41.59.51 0 1.02-.2 1.41-.59l7.78-7.78 2.81-2.81c.8-.78.8-2.07 0-2.86zM5.41 20L4 18.59l7.72-7.72 1.47 1.35L5.41 20z\"/>\n",
              "  </svg>\n",
              "      </button>\n",
              "\n",
              "\n",
              "\n",
              "    <div id=\"df-650b96f7-42ef-4b86-bd23-934dcfd32558\">\n",
              "      <button class=\"colab-df-quickchart\" onclick=\"quickchart('df-650b96f7-42ef-4b86-bd23-934dcfd32558')\"\n",
              "              title=\"Suggest charts.\"\n",
              "              style=\"display:none;\">\n",
              "\n",
              "<svg xmlns=\"http://www.w3.org/2000/svg\" height=\"24px\"viewBox=\"0 0 24 24\"\n",
              "     width=\"24px\">\n",
              "    <g>\n",
              "        <path d=\"M19 3H5c-1.1 0-2 .9-2 2v14c0 1.1.9 2 2 2h14c1.1 0 2-.9 2-2V5c0-1.1-.9-2-2-2zM9 17H7v-7h2v7zm4 0h-2V7h2v10zm4 0h-2v-4h2v4z\"/>\n",
              "    </g>\n",
              "</svg>\n",
              "      </button>\n",
              "    </div>\n",
              "\n",
              "<style>\n",
              "  .colab-df-quickchart {\n",
              "    background-color: #E8F0FE;\n",
              "    border: none;\n",
              "    border-radius: 50%;\n",
              "    cursor: pointer;\n",
              "    display: none;\n",
              "    fill: #1967D2;\n",
              "    height: 32px;\n",
              "    padding: 0 0 0 0;\n",
              "    width: 32px;\n",
              "  }\n",
              "\n",
              "  .colab-df-quickchart:hover {\n",
              "    background-color: #E2EBFA;\n",
              "    box-shadow: 0px 1px 2px rgba(60, 64, 67, 0.3), 0px 1px 3px 1px rgba(60, 64, 67, 0.15);\n",
              "    fill: #174EA6;\n",
              "  }\n",
              "\n",
              "  [theme=dark] .colab-df-quickchart {\n",
              "    background-color: #3B4455;\n",
              "    fill: #D2E3FC;\n",
              "  }\n",
              "\n",
              "  [theme=dark] .colab-df-quickchart:hover {\n",
              "    background-color: #434B5C;\n",
              "    box-shadow: 0px 1px 3px 1px rgba(0, 0, 0, 0.15);\n",
              "    filter: drop-shadow(0px 1px 2px rgba(0, 0, 0, 0.3));\n",
              "    fill: #FFFFFF;\n",
              "  }\n",
              "</style>\n",
              "\n",
              "    <script>\n",
              "      async function quickchart(key) {\n",
              "        const containerElement = document.querySelector('#' + key);\n",
              "        const charts = await google.colab.kernel.invokeFunction(\n",
              "            'suggestCharts', [key], {});\n",
              "      }\n",
              "    </script>\n",
              "\n",
              "      <script>\n",
              "\n",
              "function displayQuickchartButton(domScope) {\n",
              "  let quickchartButtonEl =\n",
              "    domScope.querySelector('#df-650b96f7-42ef-4b86-bd23-934dcfd32558 button.colab-df-quickchart');\n",
              "  quickchartButtonEl.style.display =\n",
              "    google.colab.kernel.accessAllowed ? 'block' : 'none';\n",
              "}\n",
              "\n",
              "        displayQuickchartButton(document);\n",
              "      </script>\n",
              "      <style>\n",
              "    .colab-df-container {\n",
              "      display:flex;\n",
              "      flex-wrap:wrap;\n",
              "      gap: 12px;\n",
              "    }\n",
              "\n",
              "    .colab-df-convert {\n",
              "      background-color: #E8F0FE;\n",
              "      border: none;\n",
              "      border-radius: 50%;\n",
              "      cursor: pointer;\n",
              "      display: none;\n",
              "      fill: #1967D2;\n",
              "      height: 32px;\n",
              "      padding: 0 0 0 0;\n",
              "      width: 32px;\n",
              "    }\n",
              "\n",
              "    .colab-df-convert:hover {\n",
              "      background-color: #E2EBFA;\n",
              "      box-shadow: 0px 1px 2px rgba(60, 64, 67, 0.3), 0px 1px 3px 1px rgba(60, 64, 67, 0.15);\n",
              "      fill: #174EA6;\n",
              "    }\n",
              "\n",
              "    [theme=dark] .colab-df-convert {\n",
              "      background-color: #3B4455;\n",
              "      fill: #D2E3FC;\n",
              "    }\n",
              "\n",
              "    [theme=dark] .colab-df-convert:hover {\n",
              "      background-color: #434B5C;\n",
              "      box-shadow: 0px 1px 3px 1px rgba(0, 0, 0, 0.15);\n",
              "      filter: drop-shadow(0px 1px 2px rgba(0, 0, 0, 0.3));\n",
              "      fill: #FFFFFF;\n",
              "    }\n",
              "  </style>\n",
              "\n",
              "      <script>\n",
              "        const buttonEl =\n",
              "          document.querySelector('#df-05714dc6-115b-4734-880c-441f9e32dbfb button.colab-df-convert');\n",
              "        buttonEl.style.display =\n",
              "          google.colab.kernel.accessAllowed ? 'block' : 'none';\n",
              "\n",
              "        async function convertToInteractive(key) {\n",
              "          const element = document.querySelector('#df-05714dc6-115b-4734-880c-441f9e32dbfb');\n",
              "          const dataTable =\n",
              "            await google.colab.kernel.invokeFunction('convertToInteractive',\n",
              "                                                     [key], {});\n",
              "          if (!dataTable) return;\n",
              "\n",
              "          const docLinkHtml = 'Like what you see? Visit the ' +\n",
              "            '<a target=\"_blank\" href=https://colab.research.google.com/notebooks/data_table.ipynb>data table notebook</a>'\n",
              "            + ' to learn more about interactive tables.';\n",
              "          element.innerHTML = '';\n",
              "          dataTable['output_type'] = 'display_data';\n",
              "          await google.colab.output.renderOutput(dataTable, element);\n",
              "          const docLink = document.createElement('div');\n",
              "          docLink.innerHTML = docLinkHtml;\n",
              "          element.appendChild(docLink);\n",
              "        }\n",
              "      </script>\n",
              "    </div>\n",
              "  </div>\n"
            ]
          },
          "metadata": {},
          "execution_count": 47
        }
      ]
    },
    {
      "cell_type": "markdown",
      "source": [
        "- Criando o mesmo relatório sem a necessidade de importa-lo"
      ],
      "metadata": {
        "id": "ENSRPLTfCgwi"
      }
    },
    {
      "cell_type": "code",
      "source": [
        "dados = {'Dia': ['Seg','Ter','Qua','Qui','Sex','Sáb','Dom'],\n",
        "'Horas Trabalhadas': [6,7,8,6,7,5,4],'Bugs Corrigidos':[3,2,1,4,3,2,1], 'Tarefas Concluídas':[5,4,6,4,5,3,2],}\n",
        "dia1 = {'Dia1': ['S', 'T', 'Qua', 'Qui', 'Sex', 'Sab', 'Dom']}"
      ],
      "metadata": {
        "id": "jJuq9-nrALky"
      },
      "execution_count": 37,
      "outputs": []
    },
    {
      "cell_type": "code",
      "source": [
        "relatorio1 = pd.DataFrame(dados, index = [0,1,2,3,4,5,6])\n",
        "relatorio1"
      ],
      "metadata": {
        "colab": {
          "base_uri": "https://localhost:8080/",
          "height": 269
        },
        "id": "_hXOzhwhAO36",
        "outputId": "618d9ddc-ee9a-48c6-9422-4ffd57885290"
      },
      "execution_count": 38,
      "outputs": [
        {
          "output_type": "execute_result",
          "data": {
            "text/plain": [
              "   Dia  Horas Trabalhadas  Bugs Corrigidos  Tarefas Concluídas\n",
              "0  Seg                  6                3                   5\n",
              "1  Ter                  7                2                   4\n",
              "2  Qua                  8                1                   6\n",
              "3  Qui                  6                4                   4\n",
              "4  Sex                  7                3                   5\n",
              "5  Sáb                  5                2                   3\n",
              "6  Dom                  4                1                   2"
            ],
            "text/html": [
              "\n",
              "\n",
              "  <div id=\"df-e77db61f-0b34-451a-80d9-94717173fc58\">\n",
              "    <div class=\"colab-df-container\">\n",
              "      <div>\n",
              "<style scoped>\n",
              "    .dataframe tbody tr th:only-of-type {\n",
              "        vertical-align: middle;\n",
              "    }\n",
              "\n",
              "    .dataframe tbody tr th {\n",
              "        vertical-align: top;\n",
              "    }\n",
              "\n",
              "    .dataframe thead th {\n",
              "        text-align: right;\n",
              "    }\n",
              "</style>\n",
              "<table border=\"1\" class=\"dataframe\">\n",
              "  <thead>\n",
              "    <tr style=\"text-align: right;\">\n",
              "      <th></th>\n",
              "      <th>Dia</th>\n",
              "      <th>Horas Trabalhadas</th>\n",
              "      <th>Bugs Corrigidos</th>\n",
              "      <th>Tarefas Concluídas</th>\n",
              "    </tr>\n",
              "  </thead>\n",
              "  <tbody>\n",
              "    <tr>\n",
              "      <th>0</th>\n",
              "      <td>Seg</td>\n",
              "      <td>6</td>\n",
              "      <td>3</td>\n",
              "      <td>5</td>\n",
              "    </tr>\n",
              "    <tr>\n",
              "      <th>1</th>\n",
              "      <td>Ter</td>\n",
              "      <td>7</td>\n",
              "      <td>2</td>\n",
              "      <td>4</td>\n",
              "    </tr>\n",
              "    <tr>\n",
              "      <th>2</th>\n",
              "      <td>Qua</td>\n",
              "      <td>8</td>\n",
              "      <td>1</td>\n",
              "      <td>6</td>\n",
              "    </tr>\n",
              "    <tr>\n",
              "      <th>3</th>\n",
              "      <td>Qui</td>\n",
              "      <td>6</td>\n",
              "      <td>4</td>\n",
              "      <td>4</td>\n",
              "    </tr>\n",
              "    <tr>\n",
              "      <th>4</th>\n",
              "      <td>Sex</td>\n",
              "      <td>7</td>\n",
              "      <td>3</td>\n",
              "      <td>5</td>\n",
              "    </tr>\n",
              "    <tr>\n",
              "      <th>5</th>\n",
              "      <td>Sáb</td>\n",
              "      <td>5</td>\n",
              "      <td>2</td>\n",
              "      <td>3</td>\n",
              "    </tr>\n",
              "    <tr>\n",
              "      <th>6</th>\n",
              "      <td>Dom</td>\n",
              "      <td>4</td>\n",
              "      <td>1</td>\n",
              "      <td>2</td>\n",
              "    </tr>\n",
              "  </tbody>\n",
              "</table>\n",
              "</div>\n",
              "      <button class=\"colab-df-convert\" onclick=\"convertToInteractive('df-e77db61f-0b34-451a-80d9-94717173fc58')\"\n",
              "              title=\"Convert this dataframe to an interactive table.\"\n",
              "              style=\"display:none;\">\n",
              "\n",
              "  <svg xmlns=\"http://www.w3.org/2000/svg\" height=\"24px\"viewBox=\"0 0 24 24\"\n",
              "       width=\"24px\">\n",
              "    <path d=\"M0 0h24v24H0V0z\" fill=\"none\"/>\n",
              "    <path d=\"M18.56 5.44l.94 2.06.94-2.06 2.06-.94-2.06-.94-.94-2.06-.94 2.06-2.06.94zm-11 1L8.5 8.5l.94-2.06 2.06-.94-2.06-.94L8.5 2.5l-.94 2.06-2.06.94zm10 10l.94 2.06.94-2.06 2.06-.94-2.06-.94-.94-2.06-.94 2.06-2.06.94z\"/><path d=\"M17.41 7.96l-1.37-1.37c-.4-.4-.92-.59-1.43-.59-.52 0-1.04.2-1.43.59L10.3 9.45l-7.72 7.72c-.78.78-.78 2.05 0 2.83L4 21.41c.39.39.9.59 1.41.59.51 0 1.02-.2 1.41-.59l7.78-7.78 2.81-2.81c.8-.78.8-2.07 0-2.86zM5.41 20L4 18.59l7.72-7.72 1.47 1.35L5.41 20z\"/>\n",
              "  </svg>\n",
              "      </button>\n",
              "\n",
              "\n",
              "\n",
              "    <div id=\"df-a9c3756e-6558-4c36-9859-414c2d102304\">\n",
              "      <button class=\"colab-df-quickchart\" onclick=\"quickchart('df-a9c3756e-6558-4c36-9859-414c2d102304')\"\n",
              "              title=\"Suggest charts.\"\n",
              "              style=\"display:none;\">\n",
              "\n",
              "<svg xmlns=\"http://www.w3.org/2000/svg\" height=\"24px\"viewBox=\"0 0 24 24\"\n",
              "     width=\"24px\">\n",
              "    <g>\n",
              "        <path d=\"M19 3H5c-1.1 0-2 .9-2 2v14c0 1.1.9 2 2 2h14c1.1 0 2-.9 2-2V5c0-1.1-.9-2-2-2zM9 17H7v-7h2v7zm4 0h-2V7h2v10zm4 0h-2v-4h2v4z\"/>\n",
              "    </g>\n",
              "</svg>\n",
              "      </button>\n",
              "    </div>\n",
              "\n",
              "<style>\n",
              "  .colab-df-quickchart {\n",
              "    background-color: #E8F0FE;\n",
              "    border: none;\n",
              "    border-radius: 50%;\n",
              "    cursor: pointer;\n",
              "    display: none;\n",
              "    fill: #1967D2;\n",
              "    height: 32px;\n",
              "    padding: 0 0 0 0;\n",
              "    width: 32px;\n",
              "  }\n",
              "\n",
              "  .colab-df-quickchart:hover {\n",
              "    background-color: #E2EBFA;\n",
              "    box-shadow: 0px 1px 2px rgba(60, 64, 67, 0.3), 0px 1px 3px 1px rgba(60, 64, 67, 0.15);\n",
              "    fill: #174EA6;\n",
              "  }\n",
              "\n",
              "  [theme=dark] .colab-df-quickchart {\n",
              "    background-color: #3B4455;\n",
              "    fill: #D2E3FC;\n",
              "  }\n",
              "\n",
              "  [theme=dark] .colab-df-quickchart:hover {\n",
              "    background-color: #434B5C;\n",
              "    box-shadow: 0px 1px 3px 1px rgba(0, 0, 0, 0.15);\n",
              "    filter: drop-shadow(0px 1px 2px rgba(0, 0, 0, 0.3));\n",
              "    fill: #FFFFFF;\n",
              "  }\n",
              "</style>\n",
              "\n",
              "    <script>\n",
              "      async function quickchart(key) {\n",
              "        const containerElement = document.querySelector('#' + key);\n",
              "        const charts = await google.colab.kernel.invokeFunction(\n",
              "            'suggestCharts', [key], {});\n",
              "      }\n",
              "    </script>\n",
              "\n",
              "      <script>\n",
              "\n",
              "function displayQuickchartButton(domScope) {\n",
              "  let quickchartButtonEl =\n",
              "    domScope.querySelector('#df-a9c3756e-6558-4c36-9859-414c2d102304 button.colab-df-quickchart');\n",
              "  quickchartButtonEl.style.display =\n",
              "    google.colab.kernel.accessAllowed ? 'block' : 'none';\n",
              "}\n",
              "\n",
              "        displayQuickchartButton(document);\n",
              "      </script>\n",
              "      <style>\n",
              "    .colab-df-container {\n",
              "      display:flex;\n",
              "      flex-wrap:wrap;\n",
              "      gap: 12px;\n",
              "    }\n",
              "\n",
              "    .colab-df-convert {\n",
              "      background-color: #E8F0FE;\n",
              "      border: none;\n",
              "      border-radius: 50%;\n",
              "      cursor: pointer;\n",
              "      display: none;\n",
              "      fill: #1967D2;\n",
              "      height: 32px;\n",
              "      padding: 0 0 0 0;\n",
              "      width: 32px;\n",
              "    }\n",
              "\n",
              "    .colab-df-convert:hover {\n",
              "      background-color: #E2EBFA;\n",
              "      box-shadow: 0px 1px 2px rgba(60, 64, 67, 0.3), 0px 1px 3px 1px rgba(60, 64, 67, 0.15);\n",
              "      fill: #174EA6;\n",
              "    }\n",
              "\n",
              "    [theme=dark] .colab-df-convert {\n",
              "      background-color: #3B4455;\n",
              "      fill: #D2E3FC;\n",
              "    }\n",
              "\n",
              "    [theme=dark] .colab-df-convert:hover {\n",
              "      background-color: #434B5C;\n",
              "      box-shadow: 0px 1px 3px 1px rgba(0, 0, 0, 0.15);\n",
              "      filter: drop-shadow(0px 1px 2px rgba(0, 0, 0, 0.3));\n",
              "      fill: #FFFFFF;\n",
              "    }\n",
              "  </style>\n",
              "\n",
              "      <script>\n",
              "        const buttonEl =\n",
              "          document.querySelector('#df-e77db61f-0b34-451a-80d9-94717173fc58 button.colab-df-convert');\n",
              "        buttonEl.style.display =\n",
              "          google.colab.kernel.accessAllowed ? 'block' : 'none';\n",
              "\n",
              "        async function convertToInteractive(key) {\n",
              "          const element = document.querySelector('#df-e77db61f-0b34-451a-80d9-94717173fc58');\n",
              "          const dataTable =\n",
              "            await google.colab.kernel.invokeFunction('convertToInteractive',\n",
              "                                                     [key], {});\n",
              "          if (!dataTable) return;\n",
              "\n",
              "          const docLinkHtml = 'Like what you see? Visit the ' +\n",
              "            '<a target=\"_blank\" href=https://colab.research.google.com/notebooks/data_table.ipynb>data table notebook</a>'\n",
              "            + ' to learn more about interactive tables.';\n",
              "          element.innerHTML = '';\n",
              "          dataTable['output_type'] = 'display_data';\n",
              "          await google.colab.output.renderOutput(dataTable, element);\n",
              "          const docLink = document.createElement('div');\n",
              "          docLink.innerHTML = docLinkHtml;\n",
              "          element.appendChild(docLink);\n",
              "        }\n",
              "      </script>\n",
              "    </div>\n",
              "  </div>\n"
            ]
          },
          "metadata": {},
          "execution_count": 38
        }
      ]
    },
    {
      "cell_type": "markdown",
      "source": [
        "Essa análise exploratória fornece uma visão geral da produtividade semanal e pode ajudar a identificar padrões ou tendências que impactem o desempenho da equipe. É importante considerar esses resultados em conjunto com outros fatores, como a complexidade das tarefas, para obter uma compreensão completa da eficiência do trabalho da equipe."
      ],
      "metadata": {
        "id": "DBM_cXw0LPTw"
      }
    },
    {
      "cell_type": "markdown",
      "source": [
        "- TOTAL DE HORAS TRABALHADAS"
      ],
      "metadata": {
        "id": "4hIwWZdsE7-_"
      }
    },
    {
      "cell_type": "code",
      "source": [
        "relatorio1['Horas Trabalhadas'].sum()# este comando soma todas as horas trabalhadas"
      ],
      "metadata": {
        "colab": {
          "base_uri": "https://localhost:8080/"
        },
        "id": "Trc837ahEiO4",
        "outputId": "bba2dccd-94eb-49c9-9547-14cd06a9d322"
      },
      "execution_count": 8,
      "outputs": [
        {
          "output_type": "execute_result",
          "data": {
            "text/plain": [
              "43"
            ]
          },
          "metadata": {},
          "execution_count": 8
        }
      ]
    },
    {
      "cell_type": "markdown",
      "source": [
        "Horas Trabalhadas:\n",
        "Ao longo da semana, nossa equipe dedicou um total de 43 horas de trabalho em nossos projetos. Isso representa uma média de aproximadamente 6 horas e 10 minutos por dia de trabalho. Essas horas refletem o empenho e comprometimento da equipe em realizar suas atividades, cumprir prazos e atender às demandas do projeto. É fundamental reconhecer o esforço dedicado pelos membros da equipe, pois essas horas trabalhadas são o alicerce de nosso progresso e sucesso.\n"
      ],
      "metadata": {
        "id": "_I1wFpt3G8Yh"
      }
    },
    {
      "cell_type": "markdown",
      "source": [
        "- MÉDIA DIÁRIA DE HORAS TRABALHADAS"
      ],
      "metadata": {
        "id": "uZGVOMacGE6j"
      }
    },
    {
      "cell_type": "code",
      "source": [
        "relatorio1['Horas Trabalhadas'].mean()#este comando faz a media de horas trabalhadas\n",
        "print('{:.2f}'.format(relatorio1['Horas Trabalhadas'].mean()))# este comando forca a exibicao de um numero com duas casas decimais"
      ],
      "metadata": {
        "colab": {
          "base_uri": "https://localhost:8080/"
        },
        "id": "kBc0ynmlFMBl",
        "outputId": "324254d4-70b7-4a65-bc8c-a887e849b7ce"
      },
      "execution_count": 9,
      "outputs": [
        {
          "output_type": "stream",
          "name": "stdout",
          "text": [
            "6.14\n"
          ]
        }
      ]
    },
    {
      "cell_type": "markdown",
      "source": [
        "Nesta análise, observamos que ao longo da semana, a equipe trabalhou um total de 43 horas. Isso significa que, em média, cada dia de trabalho teve aproximadamente 6,14 horas de dedicação à tarefa. Saber o número total de horas trabalhadas é útil para avaliar o nível de esforço e dedicação da equipe durante o período analisado. Pode ser útil comparar esses resultados com semanas anteriores ou estabelecer metas específicas para alocar um determinado número de horas em projetos futuros."
      ],
      "metadata": {
        "id": "7mJOEmIPKSrd"
      }
    },
    {
      "cell_type": "code",
      "source": [
        "# Gráfico de barras para as Horas Trabalhadas\n",
        "plt.subplot(2, 2, 1)\n",
        "plt.bar(relatorio1['Dia'], relatorio1['Horas Trabalhadas'])\n",
        "plt.xlabel('Dia da semana')\n",
        "plt.ylabel('Horas Trabalhadas')\n",
        "plt.title('Horas Trabalhadas por Dia da Semana')"
      ],
      "metadata": {
        "colab": {
          "base_uri": "https://localhost:8080/",
          "height": 287
        },
        "id": "mIIStFLGOtzY",
        "outputId": "0fd34d9f-3163-4784-89dc-9314d3f6306e"
      },
      "execution_count": 39,
      "outputs": [
        {
          "output_type": "execute_result",
          "data": {
            "text/plain": [
              "Text(0.5, 1.0, 'Horas Trabalhadas por Dia da Semana')"
            ]
          },
          "metadata": {},
          "execution_count": 39
        },
        {
          "output_type": "display_data",
          "data": {
            "text/plain": [
              "<Figure size 640x480 with 1 Axes>"
            ],
            "image/png": "[encoded data removed]"
          },
          "metadata": {}
        }
      ]
    },
    {
      "cell_type": "markdown",
      "source": [
        "- TOTAL DE BUGS CORRIGIDOS"
      ],
      "metadata": {
        "id": "1W_EJihNGW0_"
      }
    },
    {
      "cell_type": "code",
      "source": [
        "relatorio1['Bugs Corrigidos'].sum()#este comando Soma todas as tarefas"
      ],
      "metadata": {
        "colab": {
          "base_uri": "https://localhost:8080/"
        },
        "id": "2HI8diUCGUDB",
        "outputId": "f1f94429-5594-4926-b397-195ffca17e33"
      },
      "execution_count": 10,
      "outputs": [
        {
          "output_type": "execute_result",
          "data": {
            "text/plain": [
              "16"
            ]
          },
          "metadata": {},
          "execution_count": 10
        }
      ]
    },
    {
      "cell_type": "markdown",
      "source": [
        "Bugs Corrigidos:\n",
        "Durante a semana, nosso foco na qualidade do trabalho e no controle de defeitos foi evidente. Ao todo, foram corrigidos 16 bugs em nossos projetos. Essa média de 2,3 bugs corrigidos por dia demonstra nossa capacidade de identificar e resolver problemas em um ritmo consistente. É essencial ressaltar que a correção de bugs é uma tarefa crítica para garantir a estabilidade e a confiabilidade de nossas entregas, e estamos empenhados em manter esse nível de excelência para garantir a satisfação dos nossos clientes."
      ],
      "metadata": {
        "id": "uBf3UylkJMEq"
      }
    },
    {
      "cell_type": "markdown",
      "source": [
        "- MÉDIA DIÁRIA DE BUGS CORRIGIDOS"
      ],
      "metadata": {
        "id": "j0dapkJvGod3"
      }
    },
    {
      "cell_type": "code",
      "source": [
        "relatorio1['Bugs Corrigidos'].mean()# este comando faz a media dos bugs corrigidos\n",
        "print('{:.2f}'.format(relatorio1[:7]['Bugs Corrigidos'].mean()))# este comando forca a exibicao de um numero com duas\n",
        "\n"
      ],
      "metadata": {
        "colab": {
          "base_uri": "https://localhost:8080/"
        },
        "id": "FlDvkkpIGyHD",
        "outputId": "45b75548-6b7c-45b0-dc07-aee4d4bb2e06"
      },
      "execution_count": 11,
      "outputs": [
        {
          "output_type": "stream",
          "name": "stdout",
          "text": [
            "2.29\n"
          ]
        }
      ]
    },
    {
      "cell_type": "markdown",
      "source": [
        "No relatório, podemos ver que durante a semana foram corrigidos 16 bugs no total. A média de bugs corrigidos por dia é de aproximadamente 2,29 bugs. Isso nos dá uma visão sobre a eficiência da equipe em resolver problemas e identificar áreas do projeto que podem precisar de mais atenção. É importante lembrar que a quantidade de bugs corrigidos nem sempre é um indicador de qualidade, pois alguns bugs podem ser mais complexos do que outros. Portanto, é importante avaliar também a gravidade dos bugs corrigidos para entender o impacto real no projeto."
      ],
      "metadata": {
        "id": "sFuG8c0yKdhx"
      }
    },
    {
      "cell_type": "code",
      "source": [
        "# Gráfico de barras para os Bugs Corrigidos\n",
        "plt.subplot(2, 2, 2)\n",
        "plt.bar(relatorio1['Dia'], relatorio1['Bugs Corrigidos'])\n",
        "plt.xlabel('Dia da semana')\n",
        "plt.ylabel('Bugs Corrigidos')\n",
        "plt.title('Bugs Corrigidos por Dia da Semana')"
      ],
      "metadata": {
        "colab": {
          "base_uri": "https://localhost:8080/",
          "height": 287
        },
        "id": "qYVHLh3SO3ef",
        "outputId": "783e3d0d-750f-47d3-b6aa-224d7fb7df42"
      },
      "execution_count": 40,
      "outputs": [
        {
          "output_type": "execute_result",
          "data": {
            "text/plain": [
              "Text(0.5, 1.0, 'Bugs Corrigidos por Dia da Semana')"
            ]
          },
          "metadata": {},
          "execution_count": 40
        },
        {
          "output_type": "display_data",
          "data": {
            "text/plain": [
              "<Figure size 640x480 with 1 Axes>"
            ],
            "image/png": "[encoded data removed]"
          },
          "metadata": {}
        }
      ]
    },
    {
      "cell_type": "markdown",
      "source": [
        "- TOTAL DE TAREFAS CONCLUÍDAS"
      ],
      "metadata": {
        "id": "_sR447vsHCRg"
      }
    },
    {
      "cell_type": "code",
      "source": [
        "relatorio1['Tarefas Concluídas'].sum()#este comando soma todas as tarefas concluidas"
      ],
      "metadata": {
        "colab": {
          "base_uri": "https://localhost:8080/"
        },
        "id": "mxUhW4ciHKD5",
        "outputId": "3a582f05-a16b-4554-f1c4-dad1de092e14"
      },
      "execution_count": 12,
      "outputs": [
        {
          "output_type": "execute_result",
          "data": {
            "text/plain": [
              "29"
            ]
          },
          "metadata": {},
          "execution_count": 12
        }
      ]
    },
    {
      "cell_type": "markdown",
      "source": [
        "Tarefas Concluídas:\n",
        "A equipe realizou um total de 29 tarefas ao longo da semana. Com uma média de aproximadamente 4.14 tarefas concluídas por dia, ficamos satisfeitos em ver nossa produtividade em termos de entregas. Cada tarefa concluída representa um passo adiante em direção aos nossos objetivos e ao sucesso dos projetos. Continuaremos a priorizar a execução eficiente de tarefas para otimizar o fluxo de trabalho e alcançar nossas metas com eficácia."
      ],
      "metadata": {
        "id": "nVXX4rucJTf4"
      }
    },
    {
      "cell_type": "markdown",
      "source": [
        "- MÉDIA DIÁRIA DE TAREFAS CONCLUÍDAS"
      ],
      "metadata": {
        "id": "QIVsjHA0HVbZ"
      }
    },
    {
      "cell_type": "code",
      "source": [
        "relatorio1['Tarefas Concluídas'].mean()#utilizado comando mean para fazer a media das tarefas concluidas.\n",
        "print('{:.2f}'.format(relatorio1[:7]['Tarefas Concluídas'].mean()))# este comando forca a exibicao de um numero com duas casas decimais"
      ],
      "metadata": {
        "colab": {
          "base_uri": "https://localhost:8080/"
        },
        "id": "wlCWFJYdHg-m",
        "outputId": "bbdfada6-adaa-4771-bc20-e222e5263a0d"
      },
      "execution_count": 13,
      "outputs": [
        {
          "output_type": "stream",
          "name": "stdout",
          "text": [
            "4.14\n"
          ]
        }
      ]
    },
    {
      "cell_type": "markdown",
      "source": [
        "Tarefas Concluídas:\n",
        "A equipe concluiu um total de 29 tarefas ao longo da semana. A média de tarefas concluídas por dia é de aproximadamente 4,14 tarefas. Isso mostra a eficiência da equipe em realizar e concluir as tarefas atribuídas. Comparar o número de tarefas concluídas com o número de tarefas planejadas pode ajudar a avaliar a produtividade e o cumprimento de metas. No entanto, é importante considerar também a complexidade e o tamanho das tarefas, já que algumas podem exigir mais tempo e esforço do que outras."
      ],
      "metadata": {
        "id": "JGGJXZMIKqzM"
      }
    },
    {
      "cell_type": "code",
      "source": [
        "# Gráfico de barras para as Tarefas Concluídas\n",
        "plt.subplot(2, 2, 3)\n",
        "plt.bar(relatorio1['Dia'], relatorio1['Tarefas Concluídas'])\n",
        "plt.xlabel('Dia da semana')\n",
        "plt.ylabel('Tarefas Concluídas')\n",
        "plt.title('Tarefas Concluídas por Dia da Semana')"
      ],
      "metadata": {
        "colab": {
          "base_uri": "https://localhost:8080/",
          "height": 288
        },
        "id": "6QOXd8DzPAZd",
        "outputId": "2dd0934d-85d5-409e-c6c8-3d13e5fc03be"
      },
      "execution_count": 41,
      "outputs": [
        {
          "output_type": "execute_result",
          "data": {
            "text/plain": [
              "Text(0.5, 1.0, 'Tarefas Concluídas por Dia da Semana')"
            ]
          },
          "metadata": {},
          "execution_count": 41
        },
        {
          "output_type": "display_data",
          "data": {
            "text/plain": [
              "<Figure size 640x480 with 1 Axes>"
            ],
            "image/png": "[encoded data removed]"
          },
          "metadata": {}
        }
      ]
    },
    {
      "cell_type": "markdown",
      "source": [
        "- PRODUTIVIDADE DIÁRIA  ( TAREFAS CONCLUÍDAS POR HORA )"
      ],
      "metadata": {
        "id": "phGNFP_ZIQAV"
      }
    },
    {
      "cell_type": "code",
      "source": [
        "ProdutividadeDiaria = relatorio1['Horas Trabalhadas'].sum() / relatorio1['Tarefas Concluídas'].sum()#este comando soma as horas trabalhadas\n",
        "print('{:.2f}'.format(relatorio1['Horas Trabalhadas'].sum() / relatorio1['Tarefas Concluídas'].sum()))#forcando a exibicao do print formatando o numero obtido resultado da divisao de total de tarefas concluidas pelo total de horas trabalhadas."
      ],
      "metadata": {
        "colab": {
          "base_uri": "https://localhost:8080/"
        },
        "id": "ctlU3lF6IlkF",
        "outputId": "4c169737-2ce4-49ac-b8f8-fb2ea3108a7d"
      },
      "execution_count": 14,
      "outputs": [
        {
          "output_type": "stream",
          "name": "stdout",
          "text": [
            "1.48\n"
          ]
        }
      ]
    },
    {
      "cell_type": "markdown",
      "source": [
        "Produtividade Diária:\n",
        "Um indicador crucial para avaliar a eficiência de nossa equipe é a produtividade diária. Ao dividirmos o total de horas trabalhadas pelo número de tarefas concluídas, chegamos a uma produtividade média de aproximadamente 1 hora e 48 minutos por tarefa. Esse valor nos ajuda a entender o tempo médio gasto na conclusão de cada tarefa específica. É importante notar que, embora seja essencial ser produtivo, a qualidade do trabalho também é primordial. Vamos nos esforçar para manter um equilíbrio adequado entre produtividade e excelência em nossas entregas."
      ],
      "metadata": {
        "id": "GK1OMNtOHr9z"
      }
    },
    {
      "cell_type": "markdown",
      "source": [
        "- APRESENTANDO A PRODUTIVIDADE DIÁRIA COM NÚMERO ARREDONDADO"
      ],
      "metadata": {
        "id": "PJD2PfCGMnHF"
      }
    },
    {
      "cell_type": "code",
      "source": [
        "numero = ProdutividadeDiaria# criada a variavel numero definida resultante da variavel ProdutividadeDiaria definida acima\n",
        "numero_arredondado = round(numero, 2)# este numero arredonda o resultado com comando round\n",
        "numero_arredondado# este chama o numero arredonda definido acima"
      ],
      "metadata": {
        "colab": {
          "base_uri": "https://localhost:8080/"
        },
        "id": "9MMk3kYnJzC6",
        "outputId": "0a163d28-4017-4e84-e57c-1e9f726d9506"
      },
      "execution_count": 15,
      "outputs": [
        {
          "output_type": "execute_result",
          "data": {
            "text/plain": [
              "1.48"
            ]
          },
          "metadata": {},
          "execution_count": 15
        }
      ]
    },
    {
      "cell_type": "markdown",
      "source": [
        "A produtividade diária é uma métrica importante que avalia o equilíbrio entre as horas trabalhadas e as tarefas concluídas. No caso desse relatório, a equipe obteve uma produtividade de 2 horas por tarefa. Isso significa que, em média, a equipe leva cerca de 2 horas para concluir uma tarefa. Essa métrica pode ser usada para identificar dias em que a produtividade foi mais alta ou mais baixa e investigar as razões por trás dessas variações. Também pode ser útil ao estimar o tempo necessário para concluir tarefas semelhantes no futuro."
      ],
      "metadata": {
        "id": "o9C2YndQIYS1"
      }
    },
    {
      "cell_type": "code",
      "source": [
        "produtividade_diaria = relatorio1['Horas Trabalhadas'].sum() / relatorio1['Tarefas Concluídas'].sum()\n",
        "restante = 24 - produtividade_diaria\n",
        "labels = ['Produtividade', 'Restante']\n",
        "sizes = [produtividade_diaria, restante]\n",
        "colors = ['#ff9999', '#66b3ff']\n",
        "explode = (0.1, 0)  # destaca o primeiro pedaço do gráfico\n",
        "# Criação do gráfico de pizza\n",
        "plt.figure(figsize=(6, 6))\n",
        "plt.pie(sizes, explode=explode, labels=labels, colors=colors, autopct='%1.1f%%', shadow=True, startangle=140)\n",
        "plt.axis('equal')  # Deixa o gráfico de pizza em formato circular\n",
        "plt.title('Produtividade Diária')"
      ],
      "metadata": {
        "colab": {
          "base_uri": "https://localhost:8080/",
          "height": 538
        },
        "id": "hL731Gd9SmUq",
        "outputId": "c3faa5b7-c762-4b52-db67-f897b5fd203b"
      },
      "execution_count": 45,
      "outputs": [
        {
          "output_type": "execute_result",
          "data": {
            "text/plain": [
              "Text(0.5, 1.0, 'Produtividade Diária')"
            ]
          },
          "metadata": {},
          "execution_count": 45
        },
        {
          "output_type": "display_data",
          "data": {
            "text/plain": [
              "<Figure size 600x600 with 1 Axes>"
            ],
            "image/png": "[encoded data removed]"
          },
          "metadata": {}
        }
      ]
    },
    {
      "cell_type": "markdown",
      "source": [
        "Análise Exploratória Detalhada - Gráfico de Pizza da Produtividade Diária\n",
        "\n",
        "Nesta análise exploratória detalhada, iremos examinar o gráfico de pizza da produtividade diária, que apresenta a proporção de tempo dedicado à produtividade em relação ao restante do tempo ao longo da semana. Vamos explicar os dados presentes no gráfico e suas implicações para a equipe."
      ],
      "metadata": {
        "id": "pyKxMbttVXOl"
      }
    },
    {
      "cell_type": "markdown",
      "source": [
        "**Análise e Implicações:**\n",
        "\n",
        "Produtividade Diária: 1.79 (aproximadamente)\n",
        "O valor da produtividade diária, que é de aproximadamente 1.79, significa que, em média, a equipe leva cerca de 1 hora e 47 minutos para concluir uma tarefa. Essa é uma métrica crítica que nos ajuda a entender a eficiência da equipe em relação ao tempo dedicado à produtividade. Uma produtividade diária positiva indica que a equipe está concluindo tarefas e projetos em um ritmo consistente, o que é essencial para o sucesso dos projetos e a satisfação dos clientes."
      ],
      "metadata": {
        "id": "B6czWQXjVHaS"
      }
    },
    {
      "cell_type": "markdown",
      "source": [
        "**Interpretação:**\n",
        "\n",
        "O gráfico de pizza mostra que a maior parte do tempo da equipe (aproximadamente 94,7%) é dedicada à produtividade, representada pela fatia \"Produtividade\". Isso é um bom sinal e sugere que a equipe está focada em suas tarefas e projetos, maximizando o uso de seu tempo de trabalho para obter resultados eficientes.\n",
        "\n",
        "A fatia \"Restante\" (aproximadamente 5,3%) representa o tempo não dedicado diretamente à produtividade, o que é natural e necessário para pausas e momentos de relaxamento. No entanto, é importante manter um equilíbrio saudável entre a produtividade e a necessidade de descanso para evitar sobrecarga e fadiga."
      ],
      "metadata": {
        "id": "wM27HYHWVu0s"
      }
    },
    {
      "cell_type": "markdown",
      "source": [
        "**Conclusão:**\n",
        "Com base na análise exploratória do gráfico de pizza da produtividade diária, podemos concluir que a equipe tem um nível positivo de produtividade, com a maior parte do tempo sendo utilizada para atividades produtivas. No entanto, é sempre importante lembrar que a produtividade não é o único fator importante. A qualidade do trabalho, a colaboração da equipe e o equilíbrio entre vida profissional e pessoal também são fundamentais para o sucesso geral dos projetos e a satisfação da equipe.\n",
        "\n",
        "Essa análise pode servir como base para futuras avaliações e melhorias em relação ao gerenciamento do tempo, definição de metas realistas e estratégias para manter uma alta produtividade sustentável ao longo do tempo."
      ],
      "metadata": {
        "id": "vGe9wvmkV0cW"
      }
    },
    {
      "cell_type": "markdown",
      "source": [
        "- CRIACAO DE UMA SERIES PARA APRESENTAR OS RESULTADOS DE FORMA ORGANIZADA"
      ],
      "metadata": {
        "id": "0YWzkYM75Zhe"
      }
    },
    {
      "cell_type": "code",
      "source": [
        "\n",
        "s1 = pd.Series([43,6.14,16,2.29,29,4.14,1.48], index = ['Total de Horas Trabalhadas','Média de horas trabalhadas','Total de Bugs Corrigidos','Média diária de Bugs Corrigidos','Total de Tarefas Concluídas','Média diária de Tarefas Concluídas','Produtividade Diária'])\n",
        "s1# os index sao definidos acima e seus respectivos valores sao definidos na Series acima\n"
      ],
      "metadata": {
        "colab": {
          "base_uri": "https://localhost:8080/"
        },
        "id": "WMw1NnYJXydH",
        "outputId": "c1e9eacd-a1e0-47f6-dbf0-b529f17c80dd"
      },
      "execution_count": 16,
      "outputs": [
        {
          "output_type": "execute_result",
          "data": {
            "text/plain": [
              "Total de Horas Trabalhadas            43.00\n",
              "Média de horas trabalhadas             6.14\n",
              "Total de Bugs Corrigidos              16.00\n",
              "Média diária de Bugs Corrigidos        2.29\n",
              "Total de Tarefas Concluídas           29.00\n",
              "Média diária de Tarefas Concluídas     4.14\n",
              "Produtividade Diária                   1.48\n",
              "dtype: float64"
            ]
          },
          "metadata": {},
          "execution_count": 16
        }
      ]
    },
    {
      "cell_type": "markdown",
      "source": [
        "A análise exploratória revela que nossa equipe tem demonstrado um comprometimento sólido e uma dedicação incansável ao longo da semana. Nossos esforços resultaram em uma média consistente de horas trabalhadas, correção de bugs e conclusão de tarefas. Continuaremos a monitorar esses indicadores para aprimorar ainda mais nossa produtividade e garantir que nossos projetos sejam entregues com a qualidade e a eficiência que nossos clientes esperam de nós. Com base nos dados apresentados, temos confiança em nossa capacidade de alcançar nossas metas e enfrentar novos desafios com sucesso."
      ],
      "metadata": {
        "id": "fRGD0ADbJ7nR"
      }
    },
    {
      "cell_type": "markdown",
      "source": [
        "É importante lembrar que essa análise exploratória é apenas o primeiro passo na avaliação do desempenho da equipe. Para obter uma compreensão mais completa e precisa, é recomendável realizar análises mais detalhadas e considerar outros fatores, como a satisfação e o bem-estar da equipe, a complexidade do projeto e a qualidade do trabalho entregue. Essas informações podem ajudar a identificar pontos fortes e áreas que precisam ser aprimoradas, proporcionando uma base sólida para o planejamento e a melhoria contínua das atividades da equipe."
      ],
      "metadata": {
        "id": "yNeMIhX6KCNw"
      }
    },
    {
      "cell_type": "code",
      "source": [
        "#Esse código abaixo criará um gráfico de barras horizontal,\n",
        "#com cada barra representando um indicador e o valor correspondente\n",
        "#sendo exibido acima de cada barra.\n",
        "# O gráfico de barras fornece uma representação visualmente agradável dos dados,\n",
        "#permitindo uma rápida comparação dos valores.\n"
      ],
      "metadata": {
        "id": "uXFKgIixs3PR"
      },
      "execution_count": null,
      "outputs": []
    },
    {
      "cell_type": "code",
      "source": [
        "import matplotlib.pyplot as plt\n",
        "\n",
        "# Dados\n",
        "dados = {\n",
        "    'Indicador': ['Total de Horas Trabalhadas', 'Média de Horas Trabalhadas', 'Total de Bugs Corrigidos',\n",
        "                  'Média diária de Bugs Corrigidos', 'Total de Tarefas Concluídas', 'Média diária de Tarefas Concluídas',\n",
        "                  'Produtividade Diária'],\n",
        "    'Valor': [43.00, 6.14, 16.00, 2.29, 29.00, 4.14, 1.48]\n",
        "}\n",
        "\n",
        "# Criar um DataFrame para facilitar a criação do gráfico\n",
        "df = pd.DataFrame(dados)\n",
        "\n",
        "# Configuração do gráfico de barras\n",
        "plt.figure(figsize=(10, 6))\n",
        "plt.barh(df['Indicador'], df['Valor'], color='#66b3ff')\n",
        "plt.xlabel('Valores')\n",
        "plt.ylabel('Indicador')\n",
        "plt.title('Análise de Dados')\n",
        "plt.grid(axis='x')\n",
        "\n",
        "# Adicionar valores em cada barra\n",
        "for i, v in enumerate(df['Valor']):\n",
        "    plt.text(v + 0.2, i, f'{v:.2f}', color='black')\n",
        "\n",
        "# Mostrar o gráfico\n",
        "plt.show()\n"
      ],
      "metadata": {
        "colab": {
          "base_uri": "https://localhost:8080/",
          "height": 484
        },
        "id": "VSrowaoqr1Nm",
        "outputId": "7f60b649-2ae7-4652-cf4b-5191396ff595"
      },
      "execution_count": 48,
      "outputs": [
        {
          "output_type": "display_data",
          "data": {
            "text/plain": [
              "<Figure size 1000x600 with 1 Axes>"
            ],
            "image/png": "[encoded data removed]"
          },
          "metadata": {}
        }
      ]
    },
    {
      "cell_type": "markdown",
      "source": [
        "**Análise Exploratória Detalhada** - *Horas Trabalhadas*, *Bugs* *Corrigidos* e T*arefas Concluídas*\n",
        "\n",
        "\n",
        "\n",
        "Nesta análise exploratória detalhada, iremos examinar os dados relacionados às horas trabalhadas, bugs corrigidos e tarefas concluídas. Analisaremos tanto os valores absolutos quanto as médias diárias para obter uma compreensão mais completa do desempenho da equipe ao longo da semana.\n",
        "\n",
        "\n",
        "\n",
        "\n",
        "\n",
        "Total de Horas Trabalhadas: 43 horas\n",
        "Média Diária de Horas Trabalhadas: 6,14 horas\n",
        "Bugs Corrigidos:\n",
        "\n",
        "Total de Bugs Corrigidos: 16 bugs\n",
        "Média Diária de Bugs Corrigidos: 2,29 bugs\n",
        "Tarefas Concluídas:\n",
        "\n",
        "Total de Tarefas Concluídas: 29 tarefas\n",
        "Média Diária de Tarefas Concluídas: 4,14 tarefas\n",
        "\n",
        "#Análise:\n",
        "\n",
        "Horas Trabalhadas:\n",
        "A equipe trabalhou um total de 43 horas ao longo da semana, com uma média diária de 6,14 horas de dedicação ao trabalho. Essas horas representam o esforço e a dedicação da equipe para avançar nos projetos e tarefas atribuídas. Uma média diária de 6,14 horas indica que a equipe está mantendo um ritmo consistente de trabalho durante a semana.\n",
        "\n",
        "#Bugs Corrigidos:\n",
        "Durante a semana, foram corrigidos 16 bugs no total, com uma média diária de 2,29 bugs corrigidos. Essa média sugere que a equipe está lidando eficientemente com problemas e identificando e corrigindo bugs em um ritmo razoável. Manter uma média diária de bugs corrigidos ajuda a manter a qualidade do trabalho e a satisfação do cliente.\n",
        "\n",
        "#Tarefas Concluídas:\n",
        "Ao longo da semana, a equipe concluiu um total de 29 tarefas, com uma média diária de 4,14 tarefas concluídas. Essa média diária indica que a equipe está atingindo um nível satisfatório de entrega e execução de tarefas. A conclusão de uma média de 4,14 tarefas por dia é uma prova da eficiência da equipe.\n",
        "\n",
        "#Implicações e Considerações:\n",
        "\n",
        "A equipe tem mostrado dedicação e empenho em suas atividades, com uma média diária de horas trabalhadas de 6,14 horas. É importante garantir que os membros da equipe mantenham um equilíbrio saudável entre trabalho e descanso para evitar esgotamento.\n",
        "\n",
        "A média diária de bugs corrigidos de 2,29 reflete a eficiência da equipe em identificar e resolver problemas. É crucial continuar priorizando a qualidade do trabalho e o controle de bugs para garantir a satisfação do cliente e a estabilidade dos projetos.\n",
        "\n",
        "A média diária de 4,14 tarefas concluídas destaca a capacidade da equipe em executar suas atividades de forma eficiente. Manter esse ritmo é essencial para o cumprimento de prazos e o sucesso dos projetos.\n",
        "\n",
        "#Conclusão:\n",
        "Com base na análise exploratória detalhada, podemos afirmar que a equipe tem demonstrado um nível satisfatório de produtividade, eficiência e comprometimento em suas atividades. Os indicadores mostram que a equipe está trabalhando de forma consistente e eficiente, concluindo tarefas e corrigindo bugs em um ritmo adequado. Essa análise fornece insights valiosos para a gestão do projeto, permitindo o planejamento de metas realistas e estratégias para melhorar ainda mais o desempenho da equipe. É fundamental manter o foco na qualidade do trabalho e no equilíbrio entre produtividade e bem-estar dos membros da equipe para garantir resultados sustentáveis e de alta qualidade.\n",
        "\n",
        "\n",
        "\n",
        "\n"
      ],
      "metadata": {
        "id": "edR5U0evW0QI"
      }
    },
    {
      "cell_type": "code",
      "source": [
        "import pandas as pd\n",
        "import matplotlib.pyplot as plt\n",
        "\n",
        "# Dados\n",
        "dados = {\n",
        "    'Indicador': ['Total de Horas Trabalhadas', 'Média de Horas Trabalhadas', 'Total de Bugs Corrigidos',\n",
        "                  'Média diária de Bugs Corrigidos', 'Total de Tarefas Concluídas', 'Média diária de Tarefas Concluídas',\n",
        "                  'Produtividade Diária'],\n",
        "    'Valor': [43.00, 6.14, 16.00, 2.29, 29.00, 4.14, 1.48]\n",
        "}\n",
        "\n",
        "# Criar um DataFrame para facilitar a criação do gráfico\n",
        "df = pd.DataFrame(dados)\n",
        "\n",
        "# Paleta de cores personalizada\n",
        "cores = ['#1f77b4', '#ff7f0e', '#2ca02c', '#d62728', '#9467bd', '#8c564b', '#e377c2']\n",
        "\n",
        "# Configuração do gráfico de barras\n",
        "plt.figure(figsize=(10, 6))\n",
        "plt.barh(df['Indicador'], df['Valor'], color=cores)\n",
        "plt.xlabel('Valores')\n",
        "plt.ylabel('Indicador')\n",
        "plt.title('Análise de Dados')\n",
        "\n",
        "# Adicionar valores em cada barra\n",
        "for i, v in enumerate(df['Valor']):\n",
        "    plt.text(v + 0.2, i, f'{v:.2f}', color='black')\n",
        "\n",
        "# Mostrar o gráfico\n",
        "plt.show()\n"
      ],
      "metadata": {
        "colab": {
          "base_uri": "https://localhost:8080/",
          "height": 484
        },
        "id": "_FvRN52Dtxkr",
        "outputId": "520a2f0d-560f-4f07-f5b0-6bcfeb85e0a5"
      },
      "execution_count": 52,
      "outputs": [
        {
          "output_type": "display_data",
          "data": {
            "text/plain": [
              "<Figure size 1000x600 with 1 Axes>"
            ],
            "image/png": "[encoded data removed]"
          },
          "metadata": {}
        }
      ]
    }
  ]
}
